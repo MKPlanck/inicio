{
  "nbformat": 4,
  "nbformat_minor": 0,
  "metadata": {
    "colab": {
      "provenance": []
    },
    "kernelspec": {
      "name": "python3",
      "display_name": "Python 3"
    },
    "language_info": {
      "name": "python"
    }
  },
  "cells": [
    {
      "cell_type": "markdown",
      "source": [
        "#Data Science Tools and Ecosystem"
      ],
      "metadata": {
        "id": "S-fxCmKOgci3"
      }
    },
    {
      "cell_type": "markdown",
      "source": [
        "In this notebook, Sata Science Tools and Ecosystem are summarized."
      ],
      "metadata": {
        "id": "23sGq4lIiT_y"
      }
    },
    {
      "cell_type": "markdown",
      "source": [
        "**Objectives:**\n",
        "\n",
        "*   List some popular libraries for data science.\n",
        "*   List some popular tools for data science.\n",
        "-   List some popilar languages for data science.\n",
        "-   Show some basic arithmatic expressions in pyton.\n",
        "\n"
      ],
      "metadata": {
        "id": "VRxw-naYgCGE"
      }
    },
    {
      "cell_type": "markdown",
      "source": [
        "Some of the popular languages that Data Scientists use are:\n",
        "\n",
        "\n",
        "1.   Python.\n",
        "2.   R.\n",
        "3.   Julia.\n",
        "4.   SQL\n",
        "5.   Java.\n",
        "6.   javascript.\n",
        "7.   C++\n",
        "\n"
      ],
      "metadata": {
        "id": "iTX3b80RjVCP"
      }
    },
    {
      "cell_type": "markdown",
      "source": [
        "Some of the commonly used libraries used by Data Scientists include:\n",
        "1. Matplotlib.\n",
        "2. NumPy.\n",
        "3. Pandas.\n",
        "4. Tensor Flow.\n",
        "5. Keras\n",
        "6. Pytorch"
      ],
      "metadata": {
        "id": "7rs7saaNQx5G"
      }
    },
    {
      "cell_type": "markdown",
      "source": [
        "|**Data Science Tools**|\n",
        "|---|\n",
        "|Jupyter Lab|\n",
        "|RStudio|\n",
        "|Spyder|"
      ],
      "metadata": {
        "id": "BvxIZwGUVxBl"
      }
    },
    {
      "cell_type": "markdown",
      "source": [
        "### Below are a few examples of evaluating arithmetic expressions in Python.\n",
        "`34+23`\n",
        "\n",
        "`7*3`\n",
        "\n",
        "`8/2`\n",
        "\n",
        "`(3+5)*4`\n"
      ],
      "metadata": {
        "id": "ffgphVb9a8gY"
      }
    },
    {
      "cell_type": "code",
      "source": [
        "#This a simple arithmetic expression to mutiply then add integers#\n",
        "(3*4)+5"
      ],
      "metadata": {
        "colab": {
          "base_uri": "https://localhost:8080/"
        },
        "id": "eLNDU1Chd22h",
        "outputId": "59c1f661-f745-4ef8-c907-4d52db915e05"
      },
      "execution_count": 3,
      "outputs": [
        {
          "output_type": "execute_result",
          "data": {
            "text/plain": [
              "17"
            ]
          },
          "metadata": {},
          "execution_count": 3
        }
      ]
    },
    {
      "cell_type": "code",
      "source": [
        "#This will convert 200 minutes to hours by diving by 60\n",
        "200/60"
      ],
      "metadata": {
        "colab": {
          "base_uri": "https://localhost:8080/"
        },
        "id": "FJuPIm56eiOm",
        "outputId": "203b6fb0-2fb4-4fee-9945-9a4593771ba1"
      },
      "execution_count": 8,
      "outputs": [
        {
          "output_type": "execute_result",
          "data": {
            "text/plain": [
              "3.3333333333333335"
            ]
          },
          "metadata": {},
          "execution_count": 8
        }
      ]
    },
    {
      "cell_type": "markdown",
      "source": [
        "##Author\n",
        "Sergio Rodríguez García."
      ],
      "metadata": {
        "id": "uRuO5rhrjA38"
      }
    }
  ]
}